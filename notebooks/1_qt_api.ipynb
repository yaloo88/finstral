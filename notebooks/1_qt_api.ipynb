{
 "cells": [
  {
   "cell_type": "markdown",
   "id": "d57b084b",
   "metadata": {},
   "source": [
    "# Questrade API Exploration Notebook\n",
    "\n",
    "This notebook explores the Questrade API functionality provided in the `qt_api.py` module. We'll examine key functions for accessing account information, market data, and trade execution.\n",
    "\n",
    "## Setup and Initialization"
   ]
  },
  {
   "cell_type": "code",
   "execution_count": 2,
   "id": "8c3bddc4",
   "metadata": {},
   "outputs": [],
   "source": [
    "import sys\n",
    "import os\n",
    "\n",
    "# Get the current notebook's directory\n",
    "notebook_dir = os.path.dirname(os.path.abspath('__file__'))\n",
    "# Get the project root (two levels up from the notebook)\n",
    "project_root = os.path.abspath(os.path.join(notebook_dir, '..'))\n",
    "# Add the project root to Python path\n",
    "sys.path.append(project_root)\n",
    "print(f\"Project root: {project_root}\")"
   ]
  },
  {
   "cell_type": "code",
   "execution_count": null,
   "id": "e78f8ab0",
   "metadata": {},
   "outputs": [],
   "source": [
    "import sys\n",
    "import datetime\n",
    "import pandas as pd\n",
    "import matplotlib.pyplot as plt\n",
    "from IPython.display import display, HTML\n",
    "\n",
    "# Import the Questrade API module\n",
    "import src.qt_api.qt_api as qt\n",
    "\n",
    "# Set some display options for better output\n",
    "pd.set_option('display.max_columns', None)\n",
    "pd.set_option('display.width', 1000)\n"
   ]
  },
  {
   "cell_type": "markdown",
   "id": "82ab03a7",
   "metadata": {},
   "source": [
    "## Authentication\n",
    "\n",
    "First, we need to authenticate with the Questrade API. The module handles token management automatically.\n"
   ]
  },
  {
   "cell_type": "code",
   "execution_count": null,
   "id": "1de85715",
   "metadata": {},
   "outputs": [],
   "source": [
    "# Get or refresh the authentication token\n",
    "token_data = qt.get_questrade_token()\n",
    "print(\"Authentication successful!\")\n",
    "print(f\"API Server: {token_data['api_server']}\")"
   ]
  },
  {
   "cell_type": "markdown",
   "id": "15065f26",
   "metadata": {},
   "source": [
    "## Account Information\n",
    "\n",
    "Let's explore the account information available through the API.\n",
    "\n",
    "### Retrieve Account List"
   ]
  },
  {
   "cell_type": "code",
   "execution_count": null,
   "id": "1956bdba",
   "metadata": {},
   "outputs": [],
   "source": [
    "# Get all accounts\n",
    "accounts = qt.get_questrade_accounts()\n",
    "print(f\"Found {len(accounts['accounts'])} accounts\")\n",
    "\n",
    "# Display account details in a DataFrame\n",
    "account_df = pd.DataFrame(accounts['accounts'])\n",
    "display(account_df)\n",
    "\n",
    "# Store the primary account number for later use\n",
    "if len(accounts['accounts']) > 0:\n",
    "    primary_account = next((acc['number'] for acc in accounts['accounts'] if acc.get('isPrimary', False)), \n",
    "                          accounts['accounts'][0]['number'])\n",
    "    print(f\"Primary account: {primary_account}\")"
   ]
  },
  {
   "cell_type": "markdown",
   "id": "4a3ec45c",
   "metadata": {},
   "source": [
    "### Retrieve Account Balances"
   ]
  },
  {
   "cell_type": "code",
   "execution_count": null,
   "id": "33dbef29",
   "metadata": {},
   "outputs": [],
   "source": [
    "# Get balances for the primary account\n",
    "balances = qt.get_questrade_balances(primary_account)\n",
    "\n",
    "# Display currency balances\n",
    "currency_balances = pd.DataFrame(balances['perCurrencyBalances'])\n",
    "print(\"Currency Balances:\")\n",
    "display(currency_balances)\n",
    "\n",
    "# Display combined balances\n",
    "combined_balances = pd.DataFrame(balances['combinedBalances'])\n",
    "print(\"\\nCombined Balances:\")\n",
    "display(combined_balances)"
   ]
  },
  {
   "cell_type": "markdown",
   "id": "6b44689f",
   "metadata": {},
   "source": [
    "### Retrieve Account Positions"
   ]
  },
  {
   "cell_type": "code",
   "execution_count": null,
   "id": "65539a90",
   "metadata": {},
   "outputs": [],
   "source": [
    "# Get positions for the primary account\n",
    "positions = qt.get_questrade_positions(account_df['number'][1])\n",
    "\n",
    "# Get account type and number for the title\n",
    "account_type = account_df['type'][1]\n",
    "account_number = account_df['number'][1]\n",
    "\n",
    "# Convert to DataFrame and display\n",
    "if positions['positions']:\n",
    "    positions_df = pd.DataFrame(positions['positions'])\n",
    "    \n",
    "    # Calculate market value percentage\n",
    "    positions_df['marketValue_pct'] = positions_df['currentMarketValue'] / positions_df['currentMarketValue'].sum() * 100\n",
    "    \n",
    "    # Check if 'openPnL' exists in the dataframe before calculating profit/loss percentage\n",
    "    if 'openPnL' in positions_df.columns:\n",
    "        positions_df['profit_loss_pct'] = positions_df['openPnL'] / positions_df['totalCost'] * 100\n",
    "        profit_cols = ['openPnL', 'profit_loss_pct']\n",
    "    else:\n",
    "        print(\"Note: 'openPnL' field not available in the API response\")\n",
    "        profit_cols = []\n",
    "    \n",
    "    # Sort by market value\n",
    "    positions_df = positions_df.sort_values('currentMarketValue', ascending=False)\n",
    "    \n",
    "    # Display positions with important columns first\n",
    "    cols = ['symbol', 'currentMarketValue', 'marketValue_pct', 'openQuantity', \n",
    "            'currentPrice', 'averageEntryPrice'] + profit_cols + ['totalCost']\n",
    "    display(positions_df[cols])\n",
    "    \n",
    "    # Create a pie chart of position allocation\n",
    "    plt.figure(figsize=(10, 8))\n",
    "    plt.pie(positions_df['currentMarketValue'], labels=positions_df['symbol'], autopct='%1.1f%%')\n",
    "    plt.title(f'Portfolio Allocation by Market Value - {account_type} {account_number}')\n",
    "    plt.show()\n",
    "else:\n",
    "    print(\"No positions found in the account.\")"
   ]
  },
  {
   "cell_type": "markdown",
   "id": "51c59c07",
   "metadata": {},
   "source": [
    "### Retrieve Account Activities"
   ]
  },
  {
   "cell_type": "code",
   "execution_count": null,
   "id": "02e67809",
   "metadata": {},
   "outputs": [],
   "source": [
    "# Get account activities for the last 30 days\n",
    "\n",
    "\n",
    "days_back = 30\n",
    "start_time = (datetime.datetime.now() - datetime.timedelta(days=days_back)).replace(\n",
    "    hour=0, minute=0, second=0, microsecond=0).astimezone().isoformat()\n",
    "end_time = datetime.datetime.now().astimezone().isoformat()\n",
    "\n",
    "activities = qt.get_account_activities(account_df['number'][1], start_time, end_time)\n",
    "\n",
    "if activities['activities']:\n",
    "    # Convert to DataFrame\n",
    "    activities_df = pd.DataFrame(activities['activities'])\n",
    "    \n",
    "    # Convert date columns to datetime\n",
    "    date_cols = [col for col in activities_df.columns if 'Date' in col]\n",
    "    for col in date_cols:\n",
    "        activities_df[col] = pd.to_datetime(activities_df[col])\n",
    "    \n",
    "    # Sort by transaction date\n",
    "    activities_df = activities_df.sort_values('transactionDate', ascending=False)\n",
    "    \n",
    "    # Display activities\n",
    "    display(activities_df.head(10))\n",
    "    \n",
    "    # Summary of activity types\n",
    "    activity_types = activities_df['type'].value_counts()\n",
    "    print(\"\\nActivity Types Summary:\")\n",
    "    display(activity_types)\n",
    "    \n",
    "    # Plot activity types\n",
    "    plt.figure(figsize=(12, 6))\n",
    "    activity_types.plot(kind='bar')\n",
    "    plt.title('Account Activity Types (Last 30 Days)')\n",
    "    plt.ylabel('Count')\n",
    "    plt.xticks(rotation=45)\n",
    "    plt.show()\n",
    "else:\n",
    "    print(\"No activities found for the selected time period.\")\n"
   ]
  },
  {
   "cell_type": "markdown",
   "id": "9f22ce0a",
   "metadata": {},
   "source": [
    "### Retrieve Order History"
   ]
  },
  {
   "cell_type": "code",
   "execution_count": null,
   "id": "ea99f141",
   "metadata": {},
   "outputs": [],
   "source": [
    "# Get order history for the last 30 days\n",
    "orders = qt.get_account_orders(account_df['number'][1], start_time, end_time)\n",
    "\n",
    "if orders['orders']:\n",
    "    # Convert to DataFrame\n",
    "    orders_df = pd.DataFrame(orders['orders'])\n",
    "    \n",
    "    # Convert date columns to datetime\n",
    "    time_cols = [col for col in orders_df.columns if 'Time' in col]\n",
    "    for col in time_cols:\n",
    "        orders_df[col] = pd.to_datetime(orders_df[col])\n",
    "    \n",
    "    # Sort by creation time\n",
    "    orders_df = orders_df.sort_values('creationTime', ascending=False)\n",
    "    \n",
    "    # Display orders with selected columns\n",
    "    cols = ['symbol', 'side', 'totalQuantity', 'filledQuantity', 'limitPrice', \n",
    "            'state', 'orderType', 'creationTime']\n",
    "    display(orders_df[cols].head(10))\n",
    "    \n",
    "    # Order state summary\n",
    "    order_states = orders_df['state'].value_counts()\n",
    "    print(\"\\nOrder State Summary:\")\n",
    "    display(order_states)\n",
    "    \n",
    "    # Plot order states\n",
    "    plt.figure(figsize=(10, 6))\n",
    "    order_states.plot(kind='bar', color='teal')\n",
    "    plt.title('Order States (Last 30 Days)')\n",
    "    plt.ylabel('Count')\n",
    "    plt.xticks(rotation=45)\n",
    "    plt.show()\n",
    "else:\n",
    "    print(\"No orders found for the selected time period.\")\n"
   ]
  },
  {
   "cell_type": "markdown",
   "id": "baa00737",
   "metadata": {},
   "source": [
    "## Market Data\n",
    "\n",
    "Now let's explore market data functions.\n",
    "\n",
    "### Symbol Search"
   ]
  },
  {
   "cell_type": "code",
   "execution_count": null,
   "id": "5f09dd27",
   "metadata": {},
   "outputs": [],
   "source": [
    "# Search for symbols\n",
    "search_term = \"AAPL\"  # Try different search terms like \"TSLA\", \"MSFT\", etc.\n",
    "search_results = qt.search_symbols(search_term)\n",
    "\n",
    "if search_results['symbols']:\n",
    "    search_df = pd.DataFrame(search_results['symbols'])\n",
    "    display(search_df)\n",
    "    \n",
    "    # Store a symbol ID for later use\n",
    "    sample_symbol_id = search_df.iloc[0]['symbolId']\n",
    "    sample_symbol = search_df.iloc[0]['symbol']\n",
    "    print(f\"Selected symbol for further analysis: {sample_symbol} (ID: {sample_symbol_id})\")\n",
    "else:\n",
    "    print(f\"No results found for '{search_term}'\")\n"
   ]
  },
  {
   "cell_type": "markdown",
   "id": "5ddd01f3",
   "metadata": {},
   "source": [
    "### Symbol Details"
   ]
  },
  {
   "cell_type": "code",
   "execution_count": null,
   "id": "f5974c20",
   "metadata": {},
   "outputs": [],
   "source": [
    "# Get detailed information about the selected symbol\n",
    "symbol_details = qt.get_symbol_details(symbol_id=sample_symbol_id)\n",
    "\n",
    "if symbol_details['symbols']:\n",
    "    # Display as a transposed DataFrame for better readability\n",
    "    details_df = pd.DataFrame(symbol_details['symbols']).iloc[0]\n",
    "    display(pd.DataFrame(details_df).rename(columns={0: 'Value'}))\n",
    "else:\n",
    "    print(f\"No details found for symbol ID {sample_symbol_id}\")"
   ]
  },
  {
   "cell_type": "markdown",
   "id": "01ad4870",
   "metadata": {},
   "source": [
    "### Market Quotes"
   ]
  },
  {
   "cell_type": "code",
   "execution_count": null,
   "id": "4b35d172",
   "metadata": {},
   "outputs": [],
   "source": [
    "# Get real-time quote for the selected symbol\n",
    "quote = qt.get_market_quote(symbol_id=sample_symbol_id)\n",
    "\n",
    "if quote['quotes']:\n",
    "    quote_data = quote['quotes'][0]\n",
    "    \n",
    "    # Create a more readable display of the quote information\n",
    "    quote_df = pd.Series(quote_data)\n",
    "    display(pd.DataFrame(quote_df).rename(columns={0: 'Value'}))\n",
    "    \n",
    "    # Show bid-ask spread\n",
    "    if 'bidPrice' in quote_data and 'askPrice' in quote_data and quote_data['bidPrice'] is not None and quote_data['askPrice'] is not None:\n",
    "        spread = quote_data['askPrice'] - quote_data['bidPrice']\n",
    "        spread_pct = (spread / quote_data['askPrice']) * 100\n",
    "        print(f\"Bid-Ask Spread: ${spread:.2f} ({spread_pct:.2f}%)\")\n",
    "    else:\n",
    "        print(\"Bid-Ask Spread: Not available (bid or ask prices are None)\")\n",
    "else:\n",
    "    print(f\"No quote data found for symbol ID {sample_symbol_id}\")"
   ]
  },
  {
   "cell_type": "markdown",
   "id": "b2e98cd1",
   "metadata": {},
   "source": [
    "### Historical Candles\n"
   ]
  },
  {
   "cell_type": "code",
   "execution_count": null,
   "id": "c77cef78",
   "metadata": {},
   "outputs": [],
   "source": [
    "# Get historical candle data for the selected symbol\n",
    "# For the last 30 days with daily candles\n",
    "days_back = 30\n",
    "start_time = (datetime.datetime.now() - datetime.timedelta(days=days_back)).replace(\n",
    "    hour=0, minute=0, second=0, microsecond=0).astimezone().isoformat()\n",
    "end_time = datetime.datetime.now().astimezone().isoformat()\n",
    "\n",
    "candles = qt.get_candles(sample_symbol_id, start_time, end_time, interval=\"OneHour\")\n",
    "\n",
    "if candles['candles']:\n",
    "    candles_df = pd.DataFrame(candles['candles'])\n",
    "    \n",
    "    # Convert start/end to datetime with utc=True to avoid FutureWarning\n",
    "    candles_df['start'] = pd.to_datetime(candles_df['start'], utc=True)\n",
    "    candles_df['end'] = pd.to_datetime(candles_df['end'], utc=True)\n",
    "    \n",
    "    # Set start as index\n",
    "    candles_df.set_index('start', inplace=True)\n",
    "    \n",
    "    display(candles_df.head())\n",
    "    \n",
    "    # Plot the candlestick data\n",
    "    plt.figure(figsize=(12, 6))\n",
    "    \n",
    "    # Plot OHLC\n",
    "    plt.plot(candles_df.index, candles_df['close'], label='Close Price')\n",
    "    \n",
    "    # Add volume as a bar chart on a secondary axis\n",
    "    ax1 = plt.gca()\n",
    "    ax2 = ax1.twinx()\n",
    "    ax2.bar(candles_df.index, candles_df['volume'], alpha=0.3, color='gray', label='Volume')\n",
    "    \n",
    "    plt.title(f'{sample_symbol} Price History (Last {days_back} Days)')\n",
    "    ax1.set_ylabel('Price')\n",
    "    ax2.set_ylabel('Volume')\n",
    "    ax1.legend(loc='upper left')\n",
    "    ax2.legend(loc='upper right')\n",
    "    \n",
    "    plt.grid(True, alpha=0.3)\n",
    "    plt.show()\n",
    "    \n",
    "    # Calculate and display some basic statistics\n",
    "    returns = candles_df['close'].pct_change().dropna()\n",
    "    stats = {\n",
    "        'Mean Daily Return': returns.mean() * 100,\n",
    "        'Std Dev of Daily Returns': returns.std() * 100,\n",
    "        'Max Daily Gain': returns.max() * 100,\n",
    "        'Max Daily Loss': returns.min() * 100,\n",
    "        'Total Return (Period)': ((candles_df['close'].iloc[-1] / candles_df['close'].iloc[0]) - 1) * 100\n",
    "    }\n",
    "    \n",
    "    stats_df = pd.Series(stats, name='Value')\n",
    "    stats_df = pd.DataFrame(stats_df)\n",
    "    stats_df['Value'] = stats_df['Value'].map('{:.2f}%'.format)\n",
    "    display(stats_df)\n",
    "else:\n",
    "    print(f\"No candle data found for symbol ID {sample_symbol_id}\")\n"
   ]
  },
  {
   "cell_type": "markdown",
   "id": "3c4840e0",
   "metadata": {},
   "source": [
    "## Market Information\n"
   ]
  },
  {
   "cell_type": "code",
   "execution_count": null,
   "id": "99f8d8a2",
   "metadata": {},
   "outputs": [],
   "source": [
    "# Get information about available markets\n",
    "markets = qt.get_markets()\n",
    "\n",
    "if markets['markets']:\n",
    "    markets_df = pd.DataFrame(markets['markets'])\n",
    "    \n",
    "    # Print available columns to debug\n",
    "    print(\"Available columns:\", markets_df.columns.tolist())\n",
    "    \n",
    "    # Display main market information - select only columns that exist\n",
    "    columns_to_display = ['name', 'extendedStartTime', 'startTime', 'endTime', 'extendedEndTime']\n",
    "    # Add currency if it exists\n",
    "    if 'currency' in markets_df.columns:\n",
    "        columns_to_display.append('currency')\n",
    "    \n",
    "    simple_markets_df = markets_df[columns_to_display]\n",
    "    display(simple_markets_df)\n",
    "    \n",
    "    # Show market hours visually\n",
    "    market_hours = []\n",
    "    for _, market in simple_markets_df.iterrows():\n",
    "        # Extract hours for visualization\n",
    "        ext_start = pd.to_datetime(market['extendedStartTime']).strftime('%H:%M')\n",
    "        reg_start = pd.to_datetime(market['startTime']).strftime('%H:%M')\n",
    "        reg_end = pd.to_datetime(market['endTime']).strftime('%H:%M')\n",
    "        ext_end = pd.to_datetime(market['extendedEndTime']).strftime('%H:%M')\n",
    "        \n",
    "        market_data = {\n",
    "            'Market': market['name'],\n",
    "            'Pre-Market': f\"{ext_start} - {reg_start}\",\n",
    "            'Regular Hours': f\"{reg_start} - {reg_end}\",\n",
    "            'After Hours': f\"{reg_end} - {ext_end}\"\n",
    "        }\n",
    "        \n",
    "        # Add currency if it exists\n",
    "        if 'currency' in market:\n",
    "            market_data['Currency'] = market['currency']\n",
    "        \n",
    "        market_hours.append(market_data)\n",
    "    \n",
    "    hours_df = pd.DataFrame(market_hours)\n",
    "    display(hours_df)\n",
    "else:\n",
    "    print(\"No market information available\")\n"
   ]
  },
  {
   "cell_type": "markdown",
   "id": "1a1ad88d",
   "metadata": {},
   "source": [
    "## Conclusion\n",
    "\n",
    "This notebook has demonstrated the key functionality of the Questrade API, including:\n",
    "\n",
    "1. Authentication and token management\n",
    "2. Account information retrieval (balances, positions, activities)\n",
    "3. Market data access (symbol search, quotes, historical data)\n",
    "4. Trade history and order information\n",
    "\n",
    "The API provides comprehensive access to Questrade's trading platform, allowing for portfolio analysis, market research, and potentially automated trading strategies."
   ]
  },
  {
   "cell_type": "markdown",
   "id": "0c252d92",
   "metadata": {},
   "source": []
  }
 ],
 "metadata": {
  "kernelspec": {
   "display_name": "pytorch_env",
   "language": "python",
   "name": "python3"
  },
  "language_info": {
   "codemirror_mode": {
    "name": "ipython",
    "version": 3
   },
   "file_extension": ".py",
   "mimetype": "text/x-python",
   "name": "python",
   "nbconvert_exporter": "python",
   "pygments_lexer": "ipython3",
   "version": "3.11.9"
  }
 },
 "nbformat": 4,
 "nbformat_minor": 5
}
