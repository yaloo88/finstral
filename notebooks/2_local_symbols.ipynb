{
 "cells": [
  {
   "cell_type": "code",
   "execution_count": 1,
   "metadata": {},
   "outputs": [],
   "source": [
    "import sys\n",
    "import os\n",
    "\n",
    "# Get the current notebook's directory\n",
    "notebook_dir = os.path.dirname(os.path.abspath('__file__'))\n",
    "# Get the project root (two levels up from the notebook)\n",
    "project_root = os.path.abspath(os.path.join(notebook_dir, '..'))\n",
    "# Add the project root to Python path\n",
    "sys.path.append(project_root)\n",
    "print(f\"Project root: {project_root}\")"
   ]
  },
  {
   "cell_type": "markdown",
   "metadata": {},
   "source": [
    "# Questrade Symbol Management Notebook\n",
    "\n",
    "This notebook demonstrates how to use the `local_symbols.py` module to manage stock symbol data locally. The module provides functions for retrieving, storing, and working with stock symbol information from the Questrade API.\n",
    "\n",
    "## Setup"
   ]
  },
  {
   "cell_type": "code",
   "execution_count": 2,
   "metadata": {},
   "outputs": [],
   "source": [
    "import sys\n",
    "import os\n",
    "import pandas as pd\n",
    "import matplotlib.pyplot as plt\n",
    "import datetime\n",
    "from pathlib import Path\n",
    "import json"
   ]
  },
  {
   "cell_type": "code",
   "execution_count": 3,
   "metadata": {},
   "outputs": [],
   "source": [
    "# Import the local_symbols module\n",
    "import src.local_symbols as local_symbols"
   ]
  },
  {
   "cell_type": "code",
   "execution_count": 4,
   "metadata": {},
   "outputs": [],
   "source": [
    "# Display settings\n",
    "pd.set_option('display.max_columns', None)\n",
    "pd.set_option('display.width', 1000)"
   ]
  },
  {
   "cell_type": "markdown",
   "metadata": {},
   "source": [
    "## Exploring the Local Symbols Database\n",
    "\n",
    "Let's first check if we have any symbols stored in our local database.\n"
   ]
  },
  {
   "cell_type": "code",
   "execution_count": null,
   "metadata": {},
   "outputs": [],
   "source": [
    "# Check current database contents\n",
    "symbols = local_symbols.get_all_local_symbols()\n",
    "print(f\"Found {len(symbols)} symbols in the local database\")\n",
    "\n",
    "if len(symbols) > 0:\n",
    "    # Display a sample of the symbols\n",
    "    symbols_df = pd.DataFrame([{\n",
    "        'Symbol': s['symbol'],\n",
    "        'Company': s['description'],\n",
    "        'Exchange': s['listingExchange'],\n",
    "        'Security Type': s['securityType'],\n",
    "        'Industry': s['industrySector']\n",
    "    } for s in symbols])\n",
    "    \n",
    "    display(symbols_df.head(10))"
   ]
  },
  {
   "cell_type": "markdown",
   "metadata": {},
   "source": [
    "## Saving a New Symbol\n",
    "\n",
    "Let's fetch and save data for a new symbol. This demonstrates how the module retrieves symbol details from Questrade and stores them locally."
   ]
  },
  {
   "cell_type": "code",
   "execution_count": null,
   "metadata": {},
   "outputs": [],
   "source": [
    "# Define a list of symbols to save\n",
    "symbols_to_save = ['AAPL', 'MSFT', 'GOOGL', 'AMZN', 'TSLA']\n",
    "\n",
    "# Save each symbol\n",
    "for symbol in symbols_to_save:\n",
    "    try:\n",
    "        symbol_data = local_symbols.save_local_symbol(symbol)\n",
    "        print(f\"Successfully saved {symbol} - {symbol_data['description']}\")\n",
    "    except Exception as e:\n",
    "        print(f\"Error saving {symbol}: {e}\")"
   ]
  },
  {
   "cell_type": "markdown",
   "metadata": {},
   "source": [
    "## Retrieving Symbol Information\n",
    "\n",
    "Now let's demonstrate how to retrieve symbol information from the local database.\n"
   ]
  },
  {
   "cell_type": "code",
   "execution_count": null,
   "metadata": {},
   "outputs": [],
   "source": [
    "# Retrieve a symbol\n",
    "symbol_to_retrieve = 'AAPL'\n",
    "symbol_data = local_symbols.get_local_symbol(symbol_to_retrieve)\n",
    "\n",
    "# Convert to DataFrame for better display\n",
    "symbol_df = pd.DataFrame([symbol_data])\n",
    "\n",
    "# Display basic information\n",
    "print(f\"Symbol: {symbol_data['symbol']}\")\n",
    "print(f\"Company: {symbol_data['description']}\")\n",
    "print(f\"Exchange: {symbol_data['listingExchange']}\")\n",
    "print(f\"Industry: {symbol_data['industryGroup']}\")\n",
    "print(f\"Security Type: {symbol_data['securityType']}\")\n",
    "print(f\"Currency: {symbol_data['currency']}\")\n",
    "print(f\"Prev Close: ${symbol_data['prevDayClosePrice']:.2f}\")\n",
    "print(f\"52-Week High: ${symbol_data['highPrice52']:.2f}\")\n",
    "print(f\"52-Week Low: ${symbol_data['lowPrice52']:.2f}\")\n",
    "print(f\"Average Volume (3M): {symbol_data['averageVol3Months']:,}\")\n",
    "print(f\"Market Cap: ${symbol_data['marketCap']:,}\")\n",
    "print(f\"EPS: ${symbol_data['eps']:.2f}\")\n",
    "if symbol_data['pe'] is not None:\n",
    "    print(f\"P/E Ratio: {symbol_data['pe']:.2f}\")\n",
    "print(f\"Dividend: ${symbol_data['dividend']:.2f}\")\n",
    "print(f\"Dividend Yield: {symbol_data['yield']:.2f}%\")\n",
    "print(f\"Has Options: {symbol_data['hasOptions']}\")"
   ]
  },
  {
   "cell_type": "markdown",
   "metadata": {},
   "source": [
    "Let's visualize some of the data to better understand the symbol's characteristics:\n"
   ]
  },
  {
   "cell_type": "code",
   "execution_count": null,
   "metadata": {},
   "outputs": [],
   "source": [
    "# Create a figure with subplots\n",
    "fig, (ax1, ax2) = plt.subplots(1, 2, figsize=(16, 6))\n",
    "\n",
    "# Price range visualization\n",
    "price_data = {\n",
    "    '52-Week Low': symbol_data['lowPrice52'],\n",
    "    'Previous Close': symbol_data['prevDayClosePrice'],\n",
    "    '52-Week High': symbol_data['highPrice52']\n",
    "}\n",
    "prices = list(price_data.values())\n",
    "labels = list(price_data.keys())\n",
    "\n",
    "# Bar chart for price range\n",
    "ax1.bar(labels, prices, color=['blue', 'green', 'orange'])\n",
    "ax1.set_title(f\"{symbol_data['symbol']} - Price Range\")\n",
    "ax1.set_ylabel(\"Price ($)\")\n",
    "# Add price labels on top of bars\n",
    "for i, price in enumerate(prices):\n",
    "    ax1.text(i, price + 2, f\"${price:.2f}\", ha='center')\n",
    "\n",
    "# Pie chart for industry categorization\n",
    "industry_data = {\n",
    "    'Sector': symbol_data['industrySector'],\n",
    "    'Group': symbol_data['industryGroup'],\n",
    "    'Subgroup': symbol_data['industrySubgroup']\n",
    "}\n",
    "ax2.axis('equal')\n",
    "ax2.pie([1], labels=[industry_data['Sector']], autopct='%1.1f%%', \n",
    "       startangle=90, colors=['skyblue'])\n",
    "ax2.set_title(f\"{symbol_data['symbol']} - Industry Classification\")\n",
    "\n",
    "plt.tight_layout()\n",
    "plt.show()\n",
    "\n",
    "# Display more details about ticks and trading information\n",
    "print(\"\\nTrading Information:\")\n",
    "print(\"-\" * 30)\n",
    "print(f\"Min Ticks:\")\n",
    "for tick in symbol_data['minTicks']:\n",
    "    print(f\"  - Price: ${tick.get('price', 'N/A')}, Value: ${tick.get('value', 'N/A')}\")\n"
   ]
  },
  {
   "cell_type": "markdown",
   "metadata": {},
   "source": [
    "## Forcing Data Update\n",
    "\n",
    "The `get_local_symbol` function has a `force_update` parameter that allows us to refresh the data from the Questrade API.\n"
   ]
  },
  {
   "cell_type": "code",
   "execution_count": null,
   "metadata": {},
   "outputs": [],
   "source": [
    "# Get the latest data from the API\n",
    "updated_symbol_data = local_symbols.get_local_symbol('AAPL', force_update=True)\n",
    "\n",
    "# Check what fields might have changed\n",
    "print(\"Updated Symbol Data:\")\n",
    "print(f\"Previous Day Close: ${updated_symbol_data['prevDayClosePrice']:.2f}\")\n",
    "print(f\"Market Cap: ${updated_symbol_data['marketCap']:,}\")\n",
    "\n",
    "# Display the timestamp of the last update\n",
    "import sqlite3\n",
    "from pathlib import Path\n",
    "\n",
    "db_path = Path('../data/symbols.db')\n",
    "conn = sqlite3.connect(db_path)\n",
    "cursor = conn.cursor()\n",
    "cursor.execute('SELECT last_updated FROM symbols WHERE symbol = ?', ('AAPL',))\n",
    "last_updated = cursor.fetchone()[0]\n",
    "conn.close()\n",
    "\n",
    "print(f\"Last Updated: {last_updated}\")\n"
   ]
  },
  {
   "cell_type": "markdown",
   "metadata": {},
   "source": [
    "## Importing Symbols from a CSV File\n",
    "\n",
    "The module provides a function to import multiple symbols from a CSV file. Let's demonstrate this with a sample CSV file. First, we'll create a sample CSV file with some symbols:\n"
   ]
  },
  {
   "cell_type": "code",
   "execution_count": null,
   "metadata": {},
   "outputs": [],
   "source": [
    "# Create a sample CSV file with some Dow Jones Industrial Average symbols\n",
    "csv_content = \"\"\"Company,Symbol\n",
    "Apple Inc.,AAPL\n",
    "Microsoft Corporation,MSFT\n",
    "Amazon.com Inc.,AMZN\n",
    "Alphabet Inc.,GOOGL\n",
    "Tesla Inc.,TSLA\n",
    "Meta Platforms Inc.,META\n",
    "Nvidia Corporation,NVDA\n",
    "JP Morgan Chase & Co.,JPM\n",
    "Johnson & Johnson,JNJ\n",
    "Visa Inc.,V\n",
    "\"\"\"\n",
    "\n",
    "csv_path = \"../lists/sample_symbols.csv\"\n",
    "os.makedirs(os.path.dirname(csv_path), exist_ok=True)\n",
    "with open(csv_path, \"w\") as f:\n",
    "    f.write(csv_content)\n",
    "\n",
    "print(f\"Created sample CSV file at {csv_path}\")"
   ]
  },
  {
   "cell_type": "markdown",
   "metadata": {},
   "source": [
    "Now let's import the symbols from this file:\n"
   ]
  },
  {
   "cell_type": "code",
   "execution_count": null,
   "metadata": {},
   "outputs": [],
   "source": [
    "# Import symbols from the CSV file\n",
    "imported_count = local_symbols.import_symbols_from_csv(csv_path)\n",
    "print(f\"Successfully imported {imported_count} symbols\")\n",
    "\n",
    "# Verify the imported symbols\n",
    "all_symbols = local_symbols.get_all_local_symbols()\n",
    "print(f\"Total symbols in database: {len(all_symbols)}\")\n",
    "\n",
    "# Display all symbols in the database\n",
    "all_symbols_df = pd.DataFrame([{\n",
    "    'Symbol': s['symbol'],\n",
    "    'Company': s['description'],\n",
    "    'Exchange': s['listingExchange'],\n",
    "    'Security Type': s['securityType'],\n",
    "    'Industry': s.get('industrySector', 'N/A')\n",
    "} for s in all_symbols])\n",
    "\n",
    "display(all_symbols_df)"
   ]
  },
  {
   "cell_type": "markdown",
   "metadata": {},
   "source": [
    "## Advanced Symbol Analysis\n",
    "\n",
    "Now that we have several symbols in our database, let's perform some analysis on them.\n"
   ]
  },
  {
   "cell_type": "code",
   "execution_count": null,
   "metadata": {},
   "outputs": [],
   "source": [
    "# Get all symbols from the database\n",
    "symbols = local_symbols.get_all_local_symbols()\n",
    "\n",
    "# Create a DataFrame with key metrics\n",
    "metrics_df = pd.DataFrame([{\n",
    "    'Symbol': s['symbol'],\n",
    "    'Company': s['description'],\n",
    "    'Price': s['prevDayClosePrice'],\n",
    "    'Market Cap (B)': s['marketCap'] / 1_000_000_000 if s['marketCap'] else None,\n",
    "    'P/E': s['pe'],\n",
    "    'EPS': s['eps'],\n",
    "    'Dividend Yield': s['yield'],\n",
    "    '52W High': s['highPrice52'],\n",
    "    '52W Low': s['lowPrice52'],\n",
    "    'Volume (3M)': s['averageVol3Months'],\n",
    "    'Industry': s['industrySector'] if 'industrySector' in s else 'N/A',\n",
    "    'Exchange': s['listingExchange']\n",
    "} for s in symbols])\n",
    "\n",
    "# Sort by market cap\n",
    "metrics_df = metrics_df.sort_values('Market Cap (B)', ascending=False)\n",
    "\n",
    "# Display the metrics\n",
    "display(metrics_df)\n",
    "\n",
    "# Create a visualization of market caps\n",
    "plt.figure(figsize=(12, 8))\n",
    "bar_plot = metrics_df.head(10).plot(\n",
    "    kind='bar', \n",
    "    x='Symbol', \n",
    "    y='Market Cap (B)', \n",
    "    color='skyblue', \n",
    "    alpha=0.7,\n",
    "    title='Top 10 Companies by Market Cap',\n",
    "    ax=plt.gca()\n",
    ")\n",
    "plt.ylabel('Market Cap (Billions $)')\n",
    "plt.xticks(rotation=45)\n",
    "plt.grid(axis='y', linestyle='--', alpha=0.7)\n",
    "\n",
    "# Add value labels on top of bars\n",
    "for i, v in enumerate(metrics_df.head(10)['Market Cap (B)']):\n",
    "    plt.text(i, v + 5, f\"${v:.1f}B\", ha='center')\n",
    "\n",
    "plt.tight_layout()\n",
    "plt.show()\n",
    "\n",
    "# Plot P/E ratio comparison\n",
    "valid_pe = metrics_df[metrics_df['P/E'].notna()].sort_values('P/E')\n",
    "if not valid_pe.empty:\n",
    "    plt.figure(figsize=(12, 8))\n",
    "    bar_plot = valid_pe.head(10).plot(\n",
    "        kind='bar', \n",
    "        x='Symbol', \n",
    "        y='P/E', \n",
    "        color='lightgreen', \n",
    "        alpha=0.7,\n",
    "        title='Companies by P/E Ratio (Lowest to Highest)',\n",
    "        ax=plt.gca()\n",
    "    )\n",
    "    plt.ylabel('P/E Ratio')\n",
    "    plt.xticks(rotation=45)\n",
    "    plt.grid(axis='y', linestyle='--', alpha=0.7)\n",
    "\n",
    "    # Add value labels on top of bars\n",
    "    for i, v in enumerate(valid_pe.head(10)['P/E']):\n",
    "        if not pd.isna(v):\n",
    "            plt.text(i, v + 0.5, f\"{v:.1f}\", ha='center')\n",
    "\n",
    "    plt.tight_layout()\n",
    "    plt.show()\n"
   ]
  },
  {
   "cell_type": "markdown",
   "metadata": {},
   "source": [
    "## Industry Sector Analysis\n",
    "\n",
    "Let's analyze the distribution of industry sectors in our dataset.\n"
   ]
  },
  {
   "cell_type": "code",
   "execution_count": null,
   "metadata": {},
   "outputs": [],
   "source": [
    "symbols"
   ]
  },
  {
   "cell_type": "code",
   "execution_count": null,
   "metadata": {},
   "outputs": [],
   "source": [
    "# Check if we have industry data\n",
    "if 'Industry' in metrics_df.columns:\n",
    "    # Create industry analysis\n",
    "    industry_counts = metrics_df['Industry'].value_counts()\n",
    "    \n",
    "    # Plot industry distribution\n",
    "    plt.figure(figsize=(12, 8))\n",
    "    industry_counts.plot(\n",
    "        kind='pie',\n",
    "        autopct='%1.1f%%',\n",
    "        startangle=90,\n",
    "        shadow=False,\n",
    "        title='Distribution by Industry Sector'\n",
    "    )\n",
    "    plt.axis('equal')\n",
    "    plt.tight_layout()\n",
    "    plt.show()\n",
    "    \n",
    "    # Show average metrics by industry\n",
    "    industry_metrics = metrics_df.groupby('Industry').agg({\n",
    "        'Price': 'mean',\n",
    "        'Market Cap (B)': 'mean',\n",
    "        'P/E': 'mean',\n",
    "        'Dividend Yield': 'mean',\n",
    "        'Symbol': 'count'\n",
    "    }).rename(columns={'Symbol': 'Count'}).sort_values('Market Cap (B)', ascending=False)\n",
    "    \n",
    "    display(industry_metrics)\n"
   ]
  },
  {
   "cell_type": "markdown",
   "metadata": {},
   "source": [
    "## Searching for Symbol Information\n",
    "\n",
    "Let's create a simple function to search for symbols in our database.\n"
   ]
  },
  {
   "cell_type": "code",
   "execution_count": null,
   "metadata": {},
   "outputs": [],
   "source": [
    "def search_symbols(keyword):\n",
    "    \"\"\"\n",
    "    Search for symbols in the local database that match the keyword.\n",
    "    \n",
    "    Args:\n",
    "        keyword (str): Keyword to search for in symbol or description\n",
    "        \n",
    "    Returns:\n",
    "        pd.DataFrame: Matching symbols\n",
    "    \"\"\"\n",
    "    all_symbols = local_symbols.get_all_local_symbols()\n",
    "    matching_symbols = []\n",
    "    \n",
    "    for s in all_symbols:\n",
    "        if (keyword.upper() in s['symbol'].upper() or \n",
    "            keyword.upper() in s['description'].upper()):\n",
    "            matching_symbols.append({\n",
    "                'Symbol': s['symbol'],\n",
    "                'Company': s['description'],\n",
    "                'Price': s['prevDayClosePrice'],\n",
    "                'Market Cap (B)': s['marketCap'] / 1_000_000_000 if s['marketCap'] else None,\n",
    "                'Industry': s.get('industrySector', 'N/A'),\n",
    "                'Exchange': s['listingExchange']\n",
    "            })\n",
    "    \n",
    "    return pd.DataFrame(matching_symbols)\n",
    "\n",
    "# Example searches\n",
    "search_terms = ['TECH', 'BANK', 'AUTO']\n",
    "\n",
    "for term in search_terms:\n",
    "    results = search_symbols(term)\n",
    "    if not results.empty:\n",
    "        print(f\"\\nResults for '{term}':\")\n",
    "        display(results)\n",
    "    else:\n",
    "        print(f\"\\nNo results found for '{term}'\")\n"
   ]
  },
  {
   "cell_type": "markdown",
   "metadata": {},
   "source": [
    "## Conclusion\n",
    "\n",
    "In this notebook, we've explored the functionality of the `local_symbols.py` module, which allows us to:\n",
    "\n",
    "1. Save symbol data from Questrade to a local SQLite database\n",
    "2. Retrieve symbol information from the local database\n",
    "3. Force updates of symbol data when needed\n",
    "4. Import multiple symbols from a CSV file\n",
    "5. Perform analysis on the symbols in our database\n",
    "\n",
    "This local database approach provides several advantages:\n",
    "- Reduces API calls to Questrade's servers\n",
    "- Provides faster access to symbol information\n",
    "- Allows for offline analysis of symbol data\n",
    "- Enables batch processing of multiple symbols\n",
    "\n",
    "The module is particularly useful for applications that need to repeatedly access symbol information, such as portfolio analysis tools, screeners, or algorithmic trading systems."
   ]
  }
 ],
 "metadata": {
  "kernelspec": {
   "display_name": "pytorch_env",
   "language": "python",
   "name": "python3"
  },
  "language_info": {
   "codemirror_mode": {
    "name": "ipython",
    "version": 3
   },
   "file_extension": ".py",
   "mimetype": "text/x-python",
   "name": "python",
   "nbconvert_exporter": "python",
   "pygments_lexer": "ipython3",
   "version": "3.11.9"
  }
 },
 "nbformat": 4,
 "nbformat_minor": 2
}
